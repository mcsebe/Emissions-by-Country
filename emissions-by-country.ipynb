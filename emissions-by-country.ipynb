{
 "cells": [
  {
   "cell_type": "markdown",
   "id": "9b2e24ab",
   "metadata": {},
   "source": [
    "<h1 style=\"text-align: center;\"> Emissions by Country, 2002-2022 </h1>\n",
    "\n",
    "\n",
    "## Table of Contents\n",
    "\n",
    "* [Introduction](#Introduction)\n",
    "\n",
    "    * [Columns](#Columns)\n",
    "    \n",
    "* [Preparation](#Preparation)\n",
    "\n",
    "    * [Importing packages](#packages)\n",
    "    * [Importing dataset](#dataset)\n",
    "    * [Exploring dataset](#Exploring)\n",
    "    \n",
    "    \n",
    "* [Chapter 3](#chapter3)\n",
    "\n",
    "    * [Section 3.1](#section_3_1)\n",
    "        * [Sub Section 3.1.1](#sub_section_3_1_1)\n",
    "        * [Sub Section 3.1.2](#sub_section_3_1_2)\n",
    "    * [Section 3.2](#section_3_2)\n",
    "        * [Sub Section 3.2.1](#sub_section_3_2_1)\n",
    "        * [Sub Section 3.2.2](#sub_section_3_2_2)"
   ]
  },
  {
   "cell_type": "markdown",
   "id": "acf83b02",
   "metadata": {},
   "source": [
    "## Introduction <a class=\"anchor\" id=\"Introduction\"></a>\n",
    "\n",
    "This dataset provides information on total CO2 emissions for each country for the years 2002-2022  as well as from coal, oil, gas, cement production and flaring, and other sources.\n",
    "\n",
    "<a href=\"https://www.kaggle.com/datasets/thedevastator/global-fossil-co2-emissions-by-country-2002-2022\" > Kaggle</a>\n",
    "\n",
    "### Columns <a class=\"anchor\" id=\"Columns\"></a>\n",
    "The information is divided into the following columns:\n",
    "\n",
    "`Country` - The name of the country. \n",
    "\n",
    "`ISO 3166-1 alpha-3` - The three-letter code for the country.\n",
    "\n",
    "`Year` - The year of the data.\n",
    "\n",
    "`Total` - The total amount of CO2 emissions for the country in the given year. \n",
    "\n",
    "`Coal` - The amount of CO2 emissions from coal for the country in the given year.\n",
    "\n",
    "`Oil` - The amount of CO2 emissions from oil for the country in the given year.\n",
    "\n",
    "`Gas` - The amount of CO2 emissions from gas for the country in the given year.\n",
    "\n",
    "`Cement` - The amount of CO2 emissions from cement production for the country in the given year. \n",
    "\n",
    "`Flaring` - The amount of CO2 emissions from flaring operations for the country in the given year. \n",
    "\n",
    "`Other` - The amount of CO2 emissions from other sources for the country in the given year.\n",
    "\n",
    "`Per Capita` - The amount of CO2 emissions per capita for the country in the given year.\n",
    "\n",
    "\n",
    "## Preparation <a class=\"anchor\" id=\"Preparation\"></a>\n",
    "\n",
    "\n",
    "### Importing packages <a class=\"anchor\" id=\"packages\"></a>\n",
    "\n"
   ]
  },
  {
   "cell_type": "markdown",
   "id": "1350e8da",
   "metadata": {},
   "source": [
    "Package required for this analysis"
   ]
  },
  {
   "cell_type": "code",
   "execution_count": 1,
   "id": "0c7e1387",
   "metadata": {
    "scrolled": true
   },
   "outputs": [
    {
     "name": "stdout",
     "output_type": "stream",
     "text": [
      "Defaulting to user installation because normal site-packages is not writeable\n",
      "Requirement already satisfied: pycountry_convert in c:\\users\\mcsebedebe\\appdata\\roaming\\python\\python39\\site-packages (0.7.2)\n",
      "Requirement already satisfied: repoze.lru>=0.7 in c:\\users\\mcsebedebe\\appdata\\roaming\\python\\python39\\site-packages (from pycountry_convert) (0.7)\n",
      "Requirement already satisfied: pycountry>=16.11.27.1 in c:\\users\\mcsebedebe\\appdata\\roaming\\python\\python39\\site-packages (from pycountry_convert) (22.3.5)\n",
      "Requirement already satisfied: pytest-cov>=2.5.1 in c:\\users\\mcsebedebe\\appdata\\roaming\\python\\python39\\site-packages (from pycountry_convert) (4.0.0)\n",
      "Requirement already satisfied: pytest-mock>=1.6.3 in c:\\users\\mcsebedebe\\appdata\\roaming\\python\\python39\\site-packages (from pycountry_convert) (3.10.0)\n",
      "Requirement already satisfied: pprintpp>=0.3.0 in c:\\users\\mcsebedebe\\appdata\\roaming\\python\\python39\\site-packages (from pycountry_convert) (0.4.0)\n",
      "Requirement already satisfied: pytest>=3.4.0 in c:\\programdata\\anaconda3\\lib\\site-packages (from pycountry_convert) (7.1.1)\n",
      "Requirement already satisfied: wheel>=0.30.0 in c:\\programdata\\anaconda3\\lib\\site-packages (from pycountry_convert) (0.37.1)\n",
      "Requirement already satisfied: setuptools in c:\\programdata\\anaconda3\\lib\\site-packages (from pycountry>=16.11.27.1->pycountry_convert) (61.2.0)\n",
      "Requirement already satisfied: attrs>=19.2.0 in c:\\programdata\\anaconda3\\lib\\site-packages (from pytest>=3.4.0->pycountry_convert) (21.4.0)\n",
      "Requirement already satisfied: iniconfig in c:\\programdata\\anaconda3\\lib\\site-packages (from pytest>=3.4.0->pycountry_convert) (1.1.1)\n",
      "Requirement already satisfied: packaging in c:\\programdata\\anaconda3\\lib\\site-packages (from pytest>=3.4.0->pycountry_convert) (21.3)\n",
      "Requirement already satisfied: pluggy<2.0,>=0.12 in c:\\programdata\\anaconda3\\lib\\site-packages (from pytest>=3.4.0->pycountry_convert) (1.0.0)\n",
      "Requirement already satisfied: py>=1.8.2 in c:\\programdata\\anaconda3\\lib\\site-packages (from pytest>=3.4.0->pycountry_convert) (1.11.0)\n",
      "Requirement already satisfied: tomli>=1.0.0 in c:\\programdata\\anaconda3\\lib\\site-packages (from pytest>=3.4.0->pycountry_convert) (1.2.2)\n",
      "Requirement already satisfied: atomicwrites>=1.0 in c:\\programdata\\anaconda3\\lib\\site-packages (from pytest>=3.4.0->pycountry_convert) (1.4.0)\n",
      "Requirement already satisfied: colorama in c:\\programdata\\anaconda3\\lib\\site-packages (from pytest>=3.4.0->pycountry_convert) (0.4.4)\n",
      "Requirement already satisfied: coverage[toml]>=5.2.1 in c:\\users\\mcsebedebe\\appdata\\roaming\\python\\python39\\site-packages (from pytest-cov>=2.5.1->pycountry_convert) (7.0.5)\n",
      "Requirement already satisfied: pyparsing!=3.0.5,>=2.0.2 in c:\\programdata\\anaconda3\\lib\\site-packages (from packaging->pytest>=3.4.0->pycountry_convert) (3.0.4)\n"
     ]
    }
   ],
   "source": [
    "#https://pypi.org/project/pycountry-convert/\n",
    "!pip install pycountry_convert"
   ]
  },
  {
   "cell_type": "code",
   "execution_count": 2,
   "id": "71ad8c6f",
   "metadata": {},
   "outputs": [],
   "source": [
    "import numpy as np\n",
    "import pandas as pd\n",
    "import matplotlib.pyplot as plt\n",
    "import ipywidgets as widgets\n",
    "from ipywidgets import HBox, VBox, Button, Layout, Label\n",
    "from ipywidgets import interact, interactive, fixed, interact_manual\n",
    "import pycountry_convert as pc"
   ]
  },
  {
   "cell_type": "markdown",
   "id": "d2cb352f",
   "metadata": {},
   "source": [
    "### Importing dataset <a class=\"anchor\" id=\"dataset\"></a>"
   ]
  },
  {
   "cell_type": "code",
   "execution_count": 3,
   "id": "44d94588",
   "metadata": {},
   "outputs": [],
   "source": [
    "dataset = pd.read_csv(\"Data/GCB2022v27_MtCO2_flat.csv\")"
   ]
  },
  {
   "cell_type": "markdown",
   "id": "4f5655e9",
   "metadata": {},
   "source": [
    "### Exploring dataset <a class=\"anchor\" id=\"Exploring\"></a>"
   ]
  },
  {
   "cell_type": "code",
   "execution_count": 4,
   "id": "88fb5add",
   "metadata": {
    "scrolled": false
   },
   "outputs": [
    {
     "data": {
      "text/html": [
       "<div>\n",
       "<style scoped>\n",
       "    .dataframe tbody tr th:only-of-type {\n",
       "        vertical-align: middle;\n",
       "    }\n",
       "\n",
       "    .dataframe tbody tr th {\n",
       "        vertical-align: top;\n",
       "    }\n",
       "\n",
       "    .dataframe thead th {\n",
       "        text-align: right;\n",
       "    }\n",
       "</style>\n",
       "<table border=\"1\" class=\"dataframe\">\n",
       "  <thead>\n",
       "    <tr style=\"text-align: right;\">\n",
       "      <th></th>\n",
       "      <th>Country</th>\n",
       "      <th>ISO 3166-1 alpha-3</th>\n",
       "      <th>Year</th>\n",
       "      <th>Total</th>\n",
       "      <th>Coal</th>\n",
       "      <th>Oil</th>\n",
       "      <th>Gas</th>\n",
       "      <th>Cement</th>\n",
       "      <th>Flaring</th>\n",
       "      <th>Other</th>\n",
       "      <th>Per Capita</th>\n",
       "    </tr>\n",
       "  </thead>\n",
       "  <tbody>\n",
       "    <tr>\n",
       "      <th>0</th>\n",
       "      <td>Afghanistan</td>\n",
       "      <td>AFG</td>\n",
       "      <td>1750</td>\n",
       "      <td>0.000000</td>\n",
       "      <td>NaN</td>\n",
       "      <td>NaN</td>\n",
       "      <td>NaN</td>\n",
       "      <td>NaN</td>\n",
       "      <td>NaN</td>\n",
       "      <td>NaN</td>\n",
       "      <td>NaN</td>\n",
       "    </tr>\n",
       "    <tr>\n",
       "      <th>1</th>\n",
       "      <td>Afghanistan</td>\n",
       "      <td>AFG</td>\n",
       "      <td>1751</td>\n",
       "      <td>0.000000</td>\n",
       "      <td>NaN</td>\n",
       "      <td>NaN</td>\n",
       "      <td>NaN</td>\n",
       "      <td>NaN</td>\n",
       "      <td>NaN</td>\n",
       "      <td>NaN</td>\n",
       "      <td>NaN</td>\n",
       "    </tr>\n",
       "    <tr>\n",
       "      <th>2</th>\n",
       "      <td>Afghanistan</td>\n",
       "      <td>AFG</td>\n",
       "      <td>1752</td>\n",
       "      <td>0.000000</td>\n",
       "      <td>NaN</td>\n",
       "      <td>NaN</td>\n",
       "      <td>NaN</td>\n",
       "      <td>NaN</td>\n",
       "      <td>NaN</td>\n",
       "      <td>NaN</td>\n",
       "      <td>NaN</td>\n",
       "    </tr>\n",
       "    <tr>\n",
       "      <th>3</th>\n",
       "      <td>Afghanistan</td>\n",
       "      <td>AFG</td>\n",
       "      <td>1753</td>\n",
       "      <td>0.000000</td>\n",
       "      <td>NaN</td>\n",
       "      <td>NaN</td>\n",
       "      <td>NaN</td>\n",
       "      <td>NaN</td>\n",
       "      <td>NaN</td>\n",
       "      <td>NaN</td>\n",
       "      <td>NaN</td>\n",
       "    </tr>\n",
       "    <tr>\n",
       "      <th>4</th>\n",
       "      <td>Afghanistan</td>\n",
       "      <td>AFG</td>\n",
       "      <td>1754</td>\n",
       "      <td>0.000000</td>\n",
       "      <td>NaN</td>\n",
       "      <td>NaN</td>\n",
       "      <td>NaN</td>\n",
       "      <td>NaN</td>\n",
       "      <td>NaN</td>\n",
       "      <td>NaN</td>\n",
       "      <td>NaN</td>\n",
       "    </tr>\n",
       "    <tr>\n",
       "      <th>...</th>\n",
       "      <td>...</td>\n",
       "      <td>...</td>\n",
       "      <td>...</td>\n",
       "      <td>...</td>\n",
       "      <td>...</td>\n",
       "      <td>...</td>\n",
       "      <td>...</td>\n",
       "      <td>...</td>\n",
       "      <td>...</td>\n",
       "      <td>...</td>\n",
       "      <td>...</td>\n",
       "    </tr>\n",
       "    <tr>\n",
       "      <th>63099</th>\n",
       "      <td>Global</td>\n",
       "      <td>WLD</td>\n",
       "      <td>2017</td>\n",
       "      <td>36096.739276</td>\n",
       "      <td>14506.973805</td>\n",
       "      <td>12242.627935</td>\n",
       "      <td>7144.928128</td>\n",
       "      <td>1507.923185</td>\n",
       "      <td>391.992176</td>\n",
       "      <td>302.294047</td>\n",
       "      <td>4.749682</td>\n",
       "    </tr>\n",
       "    <tr>\n",
       "      <th>63100</th>\n",
       "      <td>Global</td>\n",
       "      <td>WLD</td>\n",
       "      <td>2018</td>\n",
       "      <td>36826.506600</td>\n",
       "      <td>14746.830688</td>\n",
       "      <td>12266.016285</td>\n",
       "      <td>7529.846784</td>\n",
       "      <td>1569.218392</td>\n",
       "      <td>412.115746</td>\n",
       "      <td>302.478706</td>\n",
       "      <td>4.792753</td>\n",
       "    </tr>\n",
       "    <tr>\n",
       "      <th>63101</th>\n",
       "      <td>Global</td>\n",
       "      <td>WLD</td>\n",
       "      <td>2019</td>\n",
       "      <td>37082.558969</td>\n",
       "      <td>14725.978025</td>\n",
       "      <td>12345.653374</td>\n",
       "      <td>7647.528220</td>\n",
       "      <td>1617.506786</td>\n",
       "      <td>439.253991</td>\n",
       "      <td>306.638573</td>\n",
       "      <td>4.775633</td>\n",
       "    </tr>\n",
       "    <tr>\n",
       "      <th>63102</th>\n",
       "      <td>Global</td>\n",
       "      <td>WLD</td>\n",
       "      <td>2020</td>\n",
       "      <td>35264.085734</td>\n",
       "      <td>14174.564010</td>\n",
       "      <td>11191.808551</td>\n",
       "      <td>7556.290283</td>\n",
       "      <td>1637.537532</td>\n",
       "      <td>407.583673</td>\n",
       "      <td>296.301685</td>\n",
       "      <td>4.497423</td>\n",
       "    </tr>\n",
       "    <tr>\n",
       "      <th>63103</th>\n",
       "      <td>Global</td>\n",
       "      <td>WLD</td>\n",
       "      <td>2021</td>\n",
       "      <td>37123.850352</td>\n",
       "      <td>14979.598083</td>\n",
       "      <td>11837.159116</td>\n",
       "      <td>7921.829472</td>\n",
       "      <td>1672.592372</td>\n",
       "      <td>416.525563</td>\n",
       "      <td>296.145746</td>\n",
       "      <td>4.693699</td>\n",
       "    </tr>\n",
       "  </tbody>\n",
       "</table>\n",
       "<p>63104 rows × 11 columns</p>\n",
       "</div>"
      ],
      "text/plain": [
       "           Country ISO 3166-1 alpha-3  Year         Total          Coal  \\\n",
       "0      Afghanistan                AFG  1750      0.000000           NaN   \n",
       "1      Afghanistan                AFG  1751      0.000000           NaN   \n",
       "2      Afghanistan                AFG  1752      0.000000           NaN   \n",
       "3      Afghanistan                AFG  1753      0.000000           NaN   \n",
       "4      Afghanistan                AFG  1754      0.000000           NaN   \n",
       "...            ...                ...   ...           ...           ...   \n",
       "63099       Global                WLD  2017  36096.739276  14506.973805   \n",
       "63100       Global                WLD  2018  36826.506600  14746.830688   \n",
       "63101       Global                WLD  2019  37082.558969  14725.978025   \n",
       "63102       Global                WLD  2020  35264.085734  14174.564010   \n",
       "63103       Global                WLD  2021  37123.850352  14979.598083   \n",
       "\n",
       "                Oil          Gas       Cement     Flaring       Other  \\\n",
       "0               NaN          NaN          NaN         NaN         NaN   \n",
       "1               NaN          NaN          NaN         NaN         NaN   \n",
       "2               NaN          NaN          NaN         NaN         NaN   \n",
       "3               NaN          NaN          NaN         NaN         NaN   \n",
       "4               NaN          NaN          NaN         NaN         NaN   \n",
       "...             ...          ...          ...         ...         ...   \n",
       "63099  12242.627935  7144.928128  1507.923185  391.992176  302.294047   \n",
       "63100  12266.016285  7529.846784  1569.218392  412.115746  302.478706   \n",
       "63101  12345.653374  7647.528220  1617.506786  439.253991  306.638573   \n",
       "63102  11191.808551  7556.290283  1637.537532  407.583673  296.301685   \n",
       "63103  11837.159116  7921.829472  1672.592372  416.525563  296.145746   \n",
       "\n",
       "       Per Capita  \n",
       "0             NaN  \n",
       "1             NaN  \n",
       "2             NaN  \n",
       "3             NaN  \n",
       "4             NaN  \n",
       "...           ...  \n",
       "63099    4.749682  \n",
       "63100    4.792753  \n",
       "63101    4.775633  \n",
       "63102    4.497423  \n",
       "63103    4.693699  \n",
       "\n",
       "[63104 rows x 11 columns]"
      ]
     },
     "metadata": {},
     "output_type": "display_data"
    }
   ],
   "source": [
    "display(dataset)"
   ]
  },
  {
   "cell_type": "markdown",
   "id": "2bcf3aab",
   "metadata": {},
   "source": [
    "There are 63104 rows in total."
   ]
  },
  {
   "cell_type": "code",
   "execution_count": 5,
   "id": "7f4946f7",
   "metadata": {},
   "outputs": [
    {
     "name": "stdout",
     "output_type": "stream",
     "text": [
      "<class 'pandas.core.frame.DataFrame'>\n",
      "RangeIndex: 63104 entries, 0 to 63103\n",
      "Data columns (total 11 columns):\n",
      " #   Column              Non-Null Count  Dtype  \n",
      "---  ------              --------------  -----  \n",
      " 0   Country             63104 non-null  object \n",
      " 1   ISO 3166-1 alpha-3  61472 non-null  object \n",
      " 2   Year                63104 non-null  int64  \n",
      " 3   Total               62904 non-null  float64\n",
      " 4   Coal                21744 non-null  float64\n",
      " 5   Oil                 21717 non-null  float64\n",
      " 6   Gas                 21618 non-null  float64\n",
      " 7   Cement              20814 non-null  float64\n",
      " 8   Flaring             21550 non-null  float64\n",
      " 9   Other               1620 non-null   float64\n",
      " 10  Per Capita          18974 non-null  float64\n",
      "dtypes: float64(8), int64(1), object(2)\n",
      "memory usage: 5.3+ MB\n"
     ]
    }
   ],
   "source": [
    "dataset.info()"
   ]
  },
  {
   "cell_type": "markdown",
   "id": "e9b73705",
   "metadata": {},
   "source": [
    "With this information we realize that there are countries that have Nan in the **ISO 3166-1 alpha-3** row (three-letter code), so these countries will be eliminated for this analysis."
   ]
  },
  {
   "cell_type": "code",
   "execution_count": 6,
   "id": "43f5918c",
   "metadata": {},
   "outputs": [
    {
     "name": "stdout",
     "output_type": "stream",
     "text": [
      "That countries correspond to 1632 rows in the dataset.\n",
      "The countries are: \n",
      "- French Equatorial Africa\n",
      "- French West Africa\n",
      "- Kuwaiti Oil Fires\n",
      "- Leeward Islands\n",
      "- Pacific Islands (Palau)\n",
      "- Ryukyu Islands\n"
     ]
    }
   ],
   "source": [
    "print('That countries correspond to {} rows in the dataset.'.format(len(dataset[dataset['ISO 3166-1 alpha-3'].isna()])))\n",
    "print('The countries are: ')\n",
    "for i in dataset[dataset['ISO 3166-1 alpha-3'].isna()]['Country'].unique():\n",
    "    print(\"- \"+ i)"
   ]
  },
  {
   "cell_type": "markdown",
   "id": "ff169cb4",
   "metadata": {},
   "source": [
    "In addition, we can see that the columns **Total**, **Coal**, **Oil**, **Gas**, **Cement**, **Burn**, **Other** and **Per capita** also have Nan values, but because of the context of the data, such as the year in which the data starts, it can be assumed that they correspond to 0 CO2 emissions in each column."
   ]
  },
  {
   "cell_type": "markdown",
   "id": "3ad44f6a",
   "metadata": {},
   "source": [
    "### Cleaning data"
   ]
  },
  {
   "cell_type": "code",
   "execution_count": null,
   "id": "afcddf41",
   "metadata": {},
   "outputs": [],
   "source": [
    "dataset = dataset[dataset['ISO 3166-1 alpha-3'].notna()]"
   ]
  },
  {
   "cell_type": "code",
   "execution_count": null,
   "id": "c0de7c27",
   "metadata": {},
   "outputs": [],
   "source": [
    "dataset.fillna(0,inplace=True)"
   ]
  },
  {
   "cell_type": "code",
   "execution_count": null,
   "id": "a98e5700",
   "metadata": {},
   "outputs": [],
   "source": [
    "dataset.isna().any()"
   ]
  },
  {
   "cell_type": "code",
   "execution_count": null,
   "id": "21b81810",
   "metadata": {},
   "outputs": [],
   "source": [
    "display(dataset)"
   ]
  },
  {
   "cell_type": "code",
   "execution_count": null,
   "id": "0e6f6edb",
   "metadata": {},
   "outputs": [],
   "source": [
    "countries = list(dataset['Country'].unique())\n",
    "countries"
   ]
  },
  {
   "cell_type": "code",
   "execution_count": null,
   "id": "d59ea0e7",
   "metadata": {},
   "outputs": [],
   "source": [
    "fig, ax = plt.subplots(figsize=(12, 8), tight_layout=True)\n",
    "ax.plot(dataset[dataset['Country']=='Chile']['Year'], dataset[dataset['Country']=='Chile']['Total'])\n",
    "ax.set_title('Incorrecto, induce a confusión')\n",
    "plt.show()"
   ]
  },
  {
   "cell_type": "code",
   "execution_count": null,
   "id": "44ba5173",
   "metadata": {},
   "outputs": [],
   "source": [
    "import pycountry_convert as pc\n",
    "pc.country_alpha2_to_continent_code(pc.country_alpha3_to_country_alpha2(\"CHL\"))"
   ]
  },
  {
   "cell_type": "code",
   "execution_count": null,
   "id": "55462ae5",
   "metadata": {},
   "outputs": [],
   "source": []
  }
 ],
 "metadata": {
  "kernelspec": {
   "display_name": "Python 3 (ipykernel)",
   "language": "python",
   "name": "python3"
  },
  "language_info": {
   "codemirror_mode": {
    "name": "ipython",
    "version": 3
   },
   "file_extension": ".py",
   "mimetype": "text/x-python",
   "name": "python",
   "nbconvert_exporter": "python",
   "pygments_lexer": "ipython3",
   "version": "3.9.12"
  }
 },
 "nbformat": 4,
 "nbformat_minor": 5
}
